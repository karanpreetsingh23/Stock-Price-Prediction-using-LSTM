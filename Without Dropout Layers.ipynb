{
 "cells": [
  {
   "cell_type": "code",
   "execution_count": 1,
   "id": "a11c667d-1bbc-4edd-a8a6-aa77ffc6e42c",
   "metadata": {},
   "outputs": [],
   "source": [
    "import numpy as np\n",
    "import matplotlib.pyplot as plt\n",
    "import pandas as pd\n",
    "import pandas_datareader as pdr\n",
    "import datetime as dt\n",
    "\n",
    "from sklearn.preprocessing import MinMaxScaler\n",
    "from tensorflow.keras.models import Sequential\n",
    "from tensorflow.keras.layers import Dense, Dropout, LSTM"
   ]
  },
  {
   "cell_type": "code",
   "execution_count": 2,
   "id": "e0dad2f4-5e8d-4b36-8d38-4452bc230413",
   "metadata": {},
   "outputs": [
    {
     "name": "stdin",
     "output_type": "stream",
     "text": [
      "Enter ticker symbol \n",
      " Ticker symbol for Apple is AAPL, for Facebook is FB etc. TSLA\n"
     ]
    }
   ],
   "source": [
    "#Loading Data using ticker for any company\n",
    "\n",
    "company = input(\"Enter ticker symbol \\n Ticker symbol for Apple is AAPL, for Facebook is FB etc.\")\n",
    "\n",
    "start = dt.datetime(2010,1,1)\n",
    "end = dt.datetime(2021,1,1)\n",
    "\n",
    "data = pdr.DataReader(company, 'yahoo', start, end)"
   ]
  },
  {
   "cell_type": "code",
   "execution_count": 3,
   "id": "5751e1cb-8b87-4586-8b4d-0f8fb280d211",
   "metadata": {},
   "outputs": [],
   "source": [
    "#Prepare Data\n",
    "scaler = MinMaxScaler(feature_range=(0,1))\n",
    "scaled_data = scaler.fit_transform(data['Close'].values.reshape(-1,1))\n",
    "\n",
    "prediction_days = 60\n",
    "\n",
    "x_train = []\n",
    "y_train = []\n",
    "\n",
    "for x in range(prediction_days, len(scaled_data)):\n",
    "    x_train.append(scaled_data[x-prediction_days:x,0])\n",
    "    y_train.append(scaled_data[x,0])\n",
    "    \n",
    "x_train, y_train = np.array(x_train), np.array(y_train)\n",
    "x_train = np.reshape(x_train, (x_train.shape[0], x_train.shape[1], 1))"
   ]
  },
  {
   "cell_type": "code",
   "execution_count": 4,
   "id": "f6b94e91-e9e2-4414-abe1-d641431652b0",
   "metadata": {},
   "outputs": [
    {
     "name": "stdout",
     "output_type": "stream",
     "text": [
      "Epoch 1/25\n",
      "81/81 [==============================] - 3s 35ms/step - loss: 0.0012\n",
      "Epoch 2/25\n",
      "81/81 [==============================] - 2s 31ms/step - loss: 4.0834e-04\n",
      "Epoch 3/25\n",
      "81/81 [==============================] - 3s 32ms/step - loss: 5.1229e-04\n",
      "Epoch 4/25\n",
      "81/81 [==============================] - 3s 33ms/step - loss: 2.9525e-04\n",
      "Epoch 5/25\n",
      "81/81 [==============================] - 3s 32ms/step - loss: 2.9848e-04\n",
      "Epoch 6/25\n",
      "81/81 [==============================] - 3s 31ms/step - loss: 2.7393e-04\n",
      "Epoch 7/25\n",
      "81/81 [==============================] - 3s 33ms/step - loss: 2.2369e-04\n",
      "Epoch 8/25\n",
      "81/81 [==============================] - 3s 33ms/step - loss: 3.2985e-04\n",
      "Epoch 9/25\n",
      "81/81 [==============================] - 3s 32ms/step - loss: 2.8908e-04\n",
      "Epoch 10/25\n",
      "81/81 [==============================] - 3s 31ms/step - loss: 2.0277e-04\n",
      "Epoch 11/25\n",
      "81/81 [==============================] - 2s 31ms/step - loss: 1.7429e-04\n",
      "Epoch 12/25\n",
      "81/81 [==============================] - 3s 32ms/step - loss: 2.5667e-04\n",
      "Epoch 13/25\n",
      "81/81 [==============================] - 3s 35ms/step - loss: 1.6454e-04\n",
      "Epoch 14/25\n",
      "81/81 [==============================] - 3s 32ms/step - loss: 2.0152e-04\n",
      "Epoch 15/25\n",
      "81/81 [==============================] - 3s 31ms/step - loss: 1.7244e-04\n",
      "Epoch 16/25\n",
      "81/81 [==============================] - 2s 31ms/step - loss: 1.5387e-04\n",
      "Epoch 17/25\n",
      "81/81 [==============================] - 2s 31ms/step - loss: 1.5619e-04\n",
      "Epoch 18/25\n",
      "81/81 [==============================] - 2s 31ms/step - loss: 1.5184e-04\n",
      "Epoch 19/25\n",
      "81/81 [==============================] - 3s 32ms/step - loss: 1.9618e-04\n",
      "Epoch 20/25\n",
      "81/81 [==============================] - 3s 32ms/step - loss: 1.8842e-04\n",
      "Epoch 21/25\n",
      "81/81 [==============================] - 3s 32ms/step - loss: 1.2412e-04\n",
      "Epoch 22/25\n",
      "81/81 [==============================] - 3s 31ms/step - loss: 1.1643e-04\n",
      "Epoch 23/25\n",
      "81/81 [==============================] - 2s 31ms/step - loss: 1.2158e-04\n",
      "Epoch 24/25\n",
      "81/81 [==============================] - 3s 33ms/step - loss: 1.1224e-04\n",
      "Epoch 25/25\n",
      "81/81 [==============================] - 3s 34ms/step - loss: 1.0847e-04\n"
     ]
    },
    {
     "data": {
      "text/plain": [
       "<tensorflow.python.keras.callbacks.History at 0x2b1253d5188>"
      ]
     },
     "execution_count": 4,
     "metadata": {},
     "output_type": "execute_result"
    }
   ],
   "source": [
    "#Building the model\n",
    "\n",
    "model = Sequential()\n",
    "\n",
    "model.add(LSTM(units=50, return_sequences=True, input_shape=(x_train.shape[1], 1)))\n",
    "model.add(LSTM(units=50, return_sequences=True))\n",
    "model.add(LSTM(units=50))\n",
    "model.add(Dense(units=1))\n",
    "\n",
    "model.compile(optimizer='adam', loss='mean_squared_error')\n",
    "model.fit(x_train, y_train, epochs=25, batch_size=32)"
   ]
  },
  {
   "cell_type": "code",
   "execution_count": 5,
   "id": "ef308ed8-ca73-449e-b353-fb7e6717c004",
   "metadata": {},
   "outputs": [],
   "source": [
    "#Test the model accuracy on existing data\n",
    "#Load Test Data\n",
    "test_start = dt.datetime(2021,1,1)\n",
    "test_end = dt.datetime.now()\n",
    "\n",
    "test_data = pdr.DataReader(company, 'yahoo', test_start, test_end)\n",
    "actual_prices = test_data['Close'].values\n",
    "\n",
    "total_dataset = pd.concat((data['Close'], test_data['Close']), axis=0)\n",
    "\n",
    "model_inputs = total_dataset[len(total_dataset)-len(test_data)-prediction_days:].values\n",
    "model_inputs = model_inputs.reshape(-1,1)\n",
    "\n",
    "model_inputs = scaler.transform(model_inputs)"
   ]
  },
  {
   "cell_type": "code",
   "execution_count": 6,
   "id": "3c9080b4-f3ca-4e41-9efc-1cdec0c17b05",
   "metadata": {},
   "outputs": [],
   "source": [
    "#Make Predictions on Test Data\n",
    "x_test = []\n",
    "for x in range(prediction_days, len(model_inputs)):\n",
    "    x_test.append(model_inputs[x-prediction_days:x, 0])\n",
    "    \n",
    "x_test = np.array(x_test)\n",
    "x_test = np.reshape(x_test, (x_test.shape[0], x_test.shape[1], 1))\n",
    "\n",
    "predicted_prices = model.predict(x_test)\n",
    "predicted_prices = scaler.inverse_transform(predicted_prices)"
   ]
  },
  {
   "cell_type": "code",
   "execution_count": 7,
   "id": "33a7eda2-fa31-46ff-a81d-cc16a5b5a823",
   "metadata": {},
   "outputs": [
    {
     "data": {
      "image/png": "[encoded data removed]",
      "text/plain": [
       "<Figure size 432x288 with 1 Axes>"
      ]
     },
     "metadata": {
      "needs_background": "light"
     },
     "output_type": "display_data"
    }
   ],
   "source": [
    "#Plot the test predictions\n",
    "plt.plot(actual_prices, color = 'black', label =f\"Actual {company} Price\")\n",
    "plt.plot(predicted_prices, color = 'green', label =f\"Predicted {company} Price\")\n",
    "plt.title(f\"{company} Share Price\")\n",
    "plt.xlabel('Time')\n",
    "plt.ylabel(f\"{company} Share Price\")\n",
    "plt.legend\n",
    "plt.show()"
   ]
  },
  {
   "cell_type": "code",
   "execution_count": 8,
   "id": "e13eb745-bc80-4047-ac0f-5bf7d16d14f7",
   "metadata": {},
   "outputs": [
    {
     "name": "stdout",
     "output_type": "stream",
     "text": [
      "WARNING:tensorflow:Model was constructed with shape (None, 60, 1) for input Tensor(\"lstm_input:0\", shape=(None, 60, 1), dtype=float32), but it was called on an input with incompatible shape (None, 59, 1).\n",
      "Prediction: [[931.9062]]\n"
     ]
    }
   ],
   "source": [
    "#Predicting the next day\n",
    "real_data = [model_inputs[len(model_inputs)+1-prediction_days:len(model_inputs+1),0]]\n",
    "real_data = np.array(real_data)\n",
    "real_data = np.reshape(real_data,(real_data.shape[0], real_data.shape[1],1))\n",
    "\n",
    "prediction = model.predict(real_data)\n",
    "prediction = scaler.inverse_transform(prediction)\n",
    "print(f\"Prediction: {prediction}\")"
   ]
  }
 ],
 "metadata": {
  "kernelspec": {
   "display_name": "Python 3 (ipykernel)",
   "language": "python",
   "name": "python3"
  },
  "language_info": {
   "codemirror_mode": {
    "name": "ipython",
    "version": 3
   },
   "file_extension": ".py",
   "mimetype": "text/x-python",
   "name": "python",
   "nbconvert_exporter": "python",
   "pygments_lexer": "ipython3",
   "version": "3.7.11"
  }
 },
 "nbformat": 4,
 "nbformat_minor": 5
}
